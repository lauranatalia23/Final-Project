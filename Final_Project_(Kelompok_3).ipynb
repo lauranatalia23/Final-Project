{
  "nbformat": 4,
  "nbformat_minor": 0,
  "metadata": {
    "kernelspec": {
      "display_name": "Python 3",
      "language": "python",
      "name": "python3"
    },
    "language_info": {
      "codemirror_mode": {
        "name": "ipython",
        "version": 3
      },
      "file_extension": ".py",
      "mimetype": "text/x-python",
      "name": "python",
      "nbconvert_exporter": "python",
      "pygments_lexer": "ipython3",
      "version": "3.7.3"
    },
    "colab": {
      "name": "Final Project (Kelompok 3).ipynb",
      "provenance": [],
      "collapsed_sections": []
    }
  },
  "cells": [
    {
      "cell_type": "markdown",
      "metadata": {
        "id": "0Yb4e3iP5yjz",
        "colab_type": "text"
      },
      "source": [
        "# Prediksi Penderita Penyakit Jantung"
      ]
    },
    {
      "cell_type": "markdown",
      "metadata": {
        "id": "c4q3jSKFSCAm",
        "colab_type": "text"
      },
      "source": [
        "## Description"
      ]
    },
    {
      "cell_type": "markdown",
      "metadata": {
        "id": "erxKWA5XQh6j",
        "colab_type": "text"
      },
      "source": [
        "Database ini berisi 76 atribut, tetapi semua percobaan yang dipublikasikan merujuk pada penggunaan 14 subset. Secara khusus, database heart deases adalah satu-satunya yang telah digunakan oleh para peneliti. Data ini merupakan data sekunder yang dapat diakses di https://www.kaggle.com/ronitf/heart-disease-uci/kernels adapun 14 attribut yang digunakan sebagai berikut:"
      ]
    },
    {
      "cell_type": "markdown",
      "metadata": {
        "id": "mBsy-wpAQqej",
        "colab_type": "text"
      },
      "source": [
        "1. age : menunjukkan usia dalam tahun\n",
        "2. sex : menunjukkan gender dinotasikan dalam 0=female, 1=male\n",
        "3. cp : tipe nyeri dada dinotasikan dalam 0= tipikal angina, 1= bukan tipikal 4. angina, 2= bukan sakit anginal, 3= tanpa gejala\n",
        "5. trestbps : tekanan darah (dalam mm Hg saat masuk ke rumah sakit)\n",
        "6. chol : serum kolestrol dalam mg/dl\n",
        "7. fbs : kadar gula darah puasa > 120 mg/dl (1=true, 0=false)\n",
        "8. restecg : hasil elektrokardiografi (0= normal, 1= memiliki kelainan 9. gelombang ST-T (inversi gelombang T dan / atau elevasi atau depresi ST> 0,05 mV), 2=menunjukkan hipertrofi ventrikel kiri yang mungkin atau pasti berdasarkan kriteria Estes)\n",
        "9. thalach : denyut jantung maksimum tercapai\n",
        "10. exang : latihan induksi angina (1= yes, 0=false)\n",
        "11. oldpeak : Depresi ST (prinzmetal angina) disebabkan oleh olahraga relatif terhadap istirahat\n",
        "12. slope : kemiringan segmen latihan ST (prinzmetal angina) puncak\n",
        "13. ca : angka major vessels (0-3) diwarnai oleh flourosopy\n",
        "14. thal : 3 = normal; 6 = cacat tetap; 7 = cacat yang tidak tetap\n",
        "15. target : menunjukkan apakah seseorang terkena penyakit jantung atau tidak (1= ya atau 0= tidak)"
      ]
    },
    {
      "cell_type": "markdown",
      "metadata": {
        "id": "irwB3Ph18c04",
        "colab_type": "text"
      },
      "source": [
        ""
      ]
    },
    {
      "cell_type": "code",
      "metadata": {
        "id": "rma2iB0j8cY8",
        "colab_type": "code",
        "colab": {}
      },
      "source": [
        ""
      ],
      "execution_count": 0,
      "outputs": []
    },
    {
      "cell_type": "markdown",
      "metadata": {
        "id": "k7Xq_Z8p5yj5",
        "colab_type": "text"
      },
      "source": [
        "### **Import Libraries** "
      ]
    },
    {
      "cell_type": "code",
      "metadata": {
        "id": "kxY_i3d_5yj6",
        "colab_type": "code",
        "colab": {}
      },
      "source": [
        "import pandas as pd\n",
        "import numpy as np\n",
        "import matplotlib.pyplot as plt\n",
        "import seaborn as sns\n",
        "\n",
        "%matplotlib inline"
      ],
      "execution_count": 0,
      "outputs": []
    },
    {
      "cell_type": "markdown",
      "metadata": {
        "id": "eLYXQ15-F1l4",
        "colab_type": "text"
      },
      "source": [
        "###### Import Library untuk memanggil package yang dibutuhkan"
      ]
    },
    {
      "cell_type": "markdown",
      "metadata": {
        "id": "DJvs3Vt85yj9",
        "colab_type": "text"
      },
      "source": [
        "### **Read Data** "
      ]
    },
    {
      "cell_type": "code",
      "metadata": {
        "id": "NEheJpFy5yj-",
        "colab_type": "code",
        "colab": {}
      },
      "source": [
        "heart = pd.read_csv('https://raw.githubusercontent.com/MaxiJo/FinalProjectFGA/master/heart.csv')"
      ],
      "execution_count": 0,
      "outputs": []
    },
    {
      "cell_type": "code",
      "metadata": {
        "id": "3KqVXeS35ykB",
        "colab_type": "code",
        "outputId": "bba9cf87-4b51-4d47-95a7-df3f7fe41a83",
        "colab": {
          "base_uri": "https://localhost:8080/",
          "height": 359
        }
      },
      "source": [
        "heart.head(10)"
      ],
      "execution_count": 0,
      "outputs": [
        {
          "output_type": "execute_result",
          "data": {
            "text/html": [
              "<div>\n",
              "<style scoped>\n",
              "    .dataframe tbody tr th:only-of-type {\n",
              "        vertical-align: middle;\n",
              "    }\n",
              "\n",
              "    .dataframe tbody tr th {\n",
              "        vertical-align: top;\n",
              "    }\n",
              "\n",
              "    .dataframe thead th {\n",
              "        text-align: right;\n",
              "    }\n",
              "</style>\n",
              "<table border=\"1\" class=\"dataframe\">\n",
              "  <thead>\n",
              "    <tr style=\"text-align: right;\">\n",
              "      <th></th>\n",
              "      <th>age</th>\n",
              "      <th>sex</th>\n",
              "      <th>cp</th>\n",
              "      <th>trestbps</th>\n",
              "      <th>chol</th>\n",
              "      <th>fbs</th>\n",
              "      <th>restecg</th>\n",
              "      <th>thalach</th>\n",
              "      <th>exang</th>\n",
              "      <th>oldpeak</th>\n",
              "      <th>slope</th>\n",
              "      <th>ca</th>\n",
              "      <th>thal</th>\n",
              "      <th>target</th>\n",
              "    </tr>\n",
              "  </thead>\n",
              "  <tbody>\n",
              "    <tr>\n",
              "      <th>0</th>\n",
              "      <td>63</td>\n",
              "      <td>1</td>\n",
              "      <td>3</td>\n",
              "      <td>145</td>\n",
              "      <td>233</td>\n",
              "      <td>1</td>\n",
              "      <td>0</td>\n",
              "      <td>150</td>\n",
              "      <td>0</td>\n",
              "      <td>2.3</td>\n",
              "      <td>0</td>\n",
              "      <td>0</td>\n",
              "      <td>1</td>\n",
              "      <td>1</td>\n",
              "    </tr>\n",
              "    <tr>\n",
              "      <th>1</th>\n",
              "      <td>37</td>\n",
              "      <td>1</td>\n",
              "      <td>2</td>\n",
              "      <td>130</td>\n",
              "      <td>250</td>\n",
              "      <td>0</td>\n",
              "      <td>1</td>\n",
              "      <td>187</td>\n",
              "      <td>0</td>\n",
              "      <td>3.5</td>\n",
              "      <td>0</td>\n",
              "      <td>0</td>\n",
              "      <td>2</td>\n",
              "      <td>1</td>\n",
              "    </tr>\n",
              "    <tr>\n",
              "      <th>2</th>\n",
              "      <td>41</td>\n",
              "      <td>0</td>\n",
              "      <td>1</td>\n",
              "      <td>130</td>\n",
              "      <td>204</td>\n",
              "      <td>0</td>\n",
              "      <td>0</td>\n",
              "      <td>172</td>\n",
              "      <td>0</td>\n",
              "      <td>1.4</td>\n",
              "      <td>2</td>\n",
              "      <td>0</td>\n",
              "      <td>2</td>\n",
              "      <td>1</td>\n",
              "    </tr>\n",
              "    <tr>\n",
              "      <th>3</th>\n",
              "      <td>56</td>\n",
              "      <td>1</td>\n",
              "      <td>1</td>\n",
              "      <td>120</td>\n",
              "      <td>236</td>\n",
              "      <td>0</td>\n",
              "      <td>1</td>\n",
              "      <td>178</td>\n",
              "      <td>0</td>\n",
              "      <td>0.8</td>\n",
              "      <td>2</td>\n",
              "      <td>0</td>\n",
              "      <td>2</td>\n",
              "      <td>1</td>\n",
              "    </tr>\n",
              "    <tr>\n",
              "      <th>4</th>\n",
              "      <td>57</td>\n",
              "      <td>0</td>\n",
              "      <td>0</td>\n",
              "      <td>120</td>\n",
              "      <td>354</td>\n",
              "      <td>0</td>\n",
              "      <td>1</td>\n",
              "      <td>163</td>\n",
              "      <td>1</td>\n",
              "      <td>0.6</td>\n",
              "      <td>2</td>\n",
              "      <td>0</td>\n",
              "      <td>2</td>\n",
              "      <td>1</td>\n",
              "    </tr>\n",
              "    <tr>\n",
              "      <th>5</th>\n",
              "      <td>57</td>\n",
              "      <td>1</td>\n",
              "      <td>0</td>\n",
              "      <td>140</td>\n",
              "      <td>192</td>\n",
              "      <td>0</td>\n",
              "      <td>1</td>\n",
              "      <td>148</td>\n",
              "      <td>0</td>\n",
              "      <td>0.4</td>\n",
              "      <td>1</td>\n",
              "      <td>0</td>\n",
              "      <td>1</td>\n",
              "      <td>1</td>\n",
              "    </tr>\n",
              "    <tr>\n",
              "      <th>6</th>\n",
              "      <td>56</td>\n",
              "      <td>0</td>\n",
              "      <td>1</td>\n",
              "      <td>140</td>\n",
              "      <td>294</td>\n",
              "      <td>0</td>\n",
              "      <td>0</td>\n",
              "      <td>153</td>\n",
              "      <td>0</td>\n",
              "      <td>1.3</td>\n",
              "      <td>1</td>\n",
              "      <td>0</td>\n",
              "      <td>2</td>\n",
              "      <td>1</td>\n",
              "    </tr>\n",
              "    <tr>\n",
              "      <th>7</th>\n",
              "      <td>44</td>\n",
              "      <td>1</td>\n",
              "      <td>1</td>\n",
              "      <td>120</td>\n",
              "      <td>263</td>\n",
              "      <td>0</td>\n",
              "      <td>1</td>\n",
              "      <td>173</td>\n",
              "      <td>0</td>\n",
              "      <td>0.0</td>\n",
              "      <td>2</td>\n",
              "      <td>0</td>\n",
              "      <td>3</td>\n",
              "      <td>1</td>\n",
              "    </tr>\n",
              "    <tr>\n",
              "      <th>8</th>\n",
              "      <td>52</td>\n",
              "      <td>1</td>\n",
              "      <td>2</td>\n",
              "      <td>172</td>\n",
              "      <td>199</td>\n",
              "      <td>1</td>\n",
              "      <td>1</td>\n",
              "      <td>162</td>\n",
              "      <td>0</td>\n",
              "      <td>0.5</td>\n",
              "      <td>2</td>\n",
              "      <td>0</td>\n",
              "      <td>3</td>\n",
              "      <td>1</td>\n",
              "    </tr>\n",
              "    <tr>\n",
              "      <th>9</th>\n",
              "      <td>57</td>\n",
              "      <td>1</td>\n",
              "      <td>2</td>\n",
              "      <td>150</td>\n",
              "      <td>168</td>\n",
              "      <td>0</td>\n",
              "      <td>1</td>\n",
              "      <td>174</td>\n",
              "      <td>0</td>\n",
              "      <td>1.6</td>\n",
              "      <td>2</td>\n",
              "      <td>0</td>\n",
              "      <td>2</td>\n",
              "      <td>1</td>\n",
              "    </tr>\n",
              "  </tbody>\n",
              "</table>\n",
              "</div>"
            ],
            "text/plain": [
              "   age  sex  cp  trestbps  chol  fbs  ...  exang  oldpeak  slope  ca  thal  target\n",
              "0   63    1   3       145   233    1  ...      0      2.3      0   0     1       1\n",
              "1   37    1   2       130   250    0  ...      0      3.5      0   0     2       1\n",
              "2   41    0   1       130   204    0  ...      0      1.4      2   0     2       1\n",
              "3   56    1   1       120   236    0  ...      0      0.8      2   0     2       1\n",
              "4   57    0   0       120   354    0  ...      1      0.6      2   0     2       1\n",
              "5   57    1   0       140   192    0  ...      0      0.4      1   0     1       1\n",
              "6   56    0   1       140   294    0  ...      0      1.3      1   0     2       1\n",
              "7   44    1   1       120   263    0  ...      0      0.0      2   0     3       1\n",
              "8   52    1   2       172   199    1  ...      0      0.5      2   0     3       1\n",
              "9   57    1   2       150   168    0  ...      0      1.6      2   0     2       1\n",
              "\n",
              "[10 rows x 14 columns]"
            ]
          },
          "metadata": {
            "tags": []
          },
          "execution_count": 8
        }
      ]
    },
    {
      "cell_type": "markdown",
      "metadata": {
        "id": "kmykqYmjGgoz",
        "colab_type": "text"
      },
      "source": [
        "###### Melihat data 10 teratas"
      ]
    },
    {
      "cell_type": "markdown",
      "metadata": {
        "id": "QsSHq0uU5-oK",
        "colab_type": "text"
      },
      "source": [
        "### **EDA (Exploratory Data Analysis)**"
      ]
    },
    {
      "cell_type": "markdown",
      "metadata": {
        "id": "GoQj_hal6rwW",
        "colab_type": "text"
      },
      "source": [
        "#### Identify the type of data "
      ]
    },
    {
      "cell_type": "code",
      "metadata": {
        "id": "2QMnKD6U5ykH",
        "colab_type": "code",
        "outputId": "8d8426ec-98e9-493b-d0ba-7e1662994ba6",
        "colab": {
          "base_uri": "https://localhost:8080/",
          "height": 340
        }
      },
      "source": [
        "heart.info()"
      ],
      "execution_count": 0,
      "outputs": [
        {
          "output_type": "stream",
          "text": [
            "<class 'pandas.core.frame.DataFrame'>\n",
            "RangeIndex: 303 entries, 0 to 302\n",
            "Data columns (total 14 columns):\n",
            "age         303 non-null int64\n",
            "sex         303 non-null int64\n",
            "cp          303 non-null int64\n",
            "trestbps    303 non-null int64\n",
            "chol        303 non-null int64\n",
            "fbs         303 non-null int64\n",
            "restecg     303 non-null int64\n",
            "thalach     303 non-null int64\n",
            "exang       303 non-null int64\n",
            "oldpeak     303 non-null float64\n",
            "slope       303 non-null int64\n",
            "ca          303 non-null int64\n",
            "thal        303 non-null int64\n",
            "target      303 non-null int64\n",
            "dtypes: float64(1), int64(13)\n",
            "memory usage: 33.3 KB\n"
          ],
          "name": "stdout"
        }
      ]
    },
    {
      "cell_type": "markdown",
      "metadata": {
        "id": "s34xKW3-dFog",
        "colab_type": "text"
      },
      "source": [
        "Untuk melihat tipe data dan berapa data yang hilang pada setiap variable"
      ]
    },
    {
      "cell_type": "markdown",
      "metadata": {
        "id": "6Ij9TMrO9yd0",
        "colab_type": "text"
      },
      "source": [
        "#### Exprolasi Data "
      ]
    },
    {
      "cell_type": "code",
      "metadata": {
        "id": "xEVxfGxo5ykJ",
        "colab_type": "code",
        "outputId": "7837aff1-4794-4975-caa1-7edc62bdf0a9",
        "colab": {
          "base_uri": "https://localhost:8080/",
          "height": 317
        }
      },
      "source": [
        "heart.describe()"
      ],
      "execution_count": 0,
      "outputs": [
        {
          "output_type": "execute_result",
          "data": {
            "text/html": [
              "<div>\n",
              "<style scoped>\n",
              "    .dataframe tbody tr th:only-of-type {\n",
              "        vertical-align: middle;\n",
              "    }\n",
              "\n",
              "    .dataframe tbody tr th {\n",
              "        vertical-align: top;\n",
              "    }\n",
              "\n",
              "    .dataframe thead th {\n",
              "        text-align: right;\n",
              "    }\n",
              "</style>\n",
              "<table border=\"1\" class=\"dataframe\">\n",
              "  <thead>\n",
              "    <tr style=\"text-align: right;\">\n",
              "      <th></th>\n",
              "      <th>age</th>\n",
              "      <th>sex</th>\n",
              "      <th>cp</th>\n",
              "      <th>trestbps</th>\n",
              "      <th>chol</th>\n",
              "      <th>fbs</th>\n",
              "      <th>restecg</th>\n",
              "      <th>thalach</th>\n",
              "      <th>exang</th>\n",
              "      <th>oldpeak</th>\n",
              "      <th>slope</th>\n",
              "      <th>ca</th>\n",
              "      <th>thal</th>\n",
              "      <th>target</th>\n",
              "    </tr>\n",
              "  </thead>\n",
              "  <tbody>\n",
              "    <tr>\n",
              "      <th>count</th>\n",
              "      <td>303.000000</td>\n",
              "      <td>303.000000</td>\n",
              "      <td>303.000000</td>\n",
              "      <td>303.000000</td>\n",
              "      <td>303.000000</td>\n",
              "      <td>303.000000</td>\n",
              "      <td>303.000000</td>\n",
              "      <td>303.000000</td>\n",
              "      <td>303.000000</td>\n",
              "      <td>303.000000</td>\n",
              "      <td>303.000000</td>\n",
              "      <td>303.000000</td>\n",
              "      <td>303.000000</td>\n",
              "      <td>303.000000</td>\n",
              "    </tr>\n",
              "    <tr>\n",
              "      <th>mean</th>\n",
              "      <td>54.366337</td>\n",
              "      <td>0.683168</td>\n",
              "      <td>0.966997</td>\n",
              "      <td>131.623762</td>\n",
              "      <td>246.264026</td>\n",
              "      <td>0.148515</td>\n",
              "      <td>0.528053</td>\n",
              "      <td>149.646865</td>\n",
              "      <td>0.326733</td>\n",
              "      <td>1.039604</td>\n",
              "      <td>1.399340</td>\n",
              "      <td>0.729373</td>\n",
              "      <td>2.313531</td>\n",
              "      <td>0.544554</td>\n",
              "    </tr>\n",
              "    <tr>\n",
              "      <th>std</th>\n",
              "      <td>9.082101</td>\n",
              "      <td>0.466011</td>\n",
              "      <td>1.032052</td>\n",
              "      <td>17.538143</td>\n",
              "      <td>51.830751</td>\n",
              "      <td>0.356198</td>\n",
              "      <td>0.525860</td>\n",
              "      <td>22.905161</td>\n",
              "      <td>0.469794</td>\n",
              "      <td>1.161075</td>\n",
              "      <td>0.616226</td>\n",
              "      <td>1.022606</td>\n",
              "      <td>0.612277</td>\n",
              "      <td>0.498835</td>\n",
              "    </tr>\n",
              "    <tr>\n",
              "      <th>min</th>\n",
              "      <td>29.000000</td>\n",
              "      <td>0.000000</td>\n",
              "      <td>0.000000</td>\n",
              "      <td>94.000000</td>\n",
              "      <td>126.000000</td>\n",
              "      <td>0.000000</td>\n",
              "      <td>0.000000</td>\n",
              "      <td>71.000000</td>\n",
              "      <td>0.000000</td>\n",
              "      <td>0.000000</td>\n",
              "      <td>0.000000</td>\n",
              "      <td>0.000000</td>\n",
              "      <td>0.000000</td>\n",
              "      <td>0.000000</td>\n",
              "    </tr>\n",
              "    <tr>\n",
              "      <th>25%</th>\n",
              "      <td>47.500000</td>\n",
              "      <td>0.000000</td>\n",
              "      <td>0.000000</td>\n",
              "      <td>120.000000</td>\n",
              "      <td>211.000000</td>\n",
              "      <td>0.000000</td>\n",
              "      <td>0.000000</td>\n",
              "      <td>133.500000</td>\n",
              "      <td>0.000000</td>\n",
              "      <td>0.000000</td>\n",
              "      <td>1.000000</td>\n",
              "      <td>0.000000</td>\n",
              "      <td>2.000000</td>\n",
              "      <td>0.000000</td>\n",
              "    </tr>\n",
              "    <tr>\n",
              "      <th>50%</th>\n",
              "      <td>55.000000</td>\n",
              "      <td>1.000000</td>\n",
              "      <td>1.000000</td>\n",
              "      <td>130.000000</td>\n",
              "      <td>240.000000</td>\n",
              "      <td>0.000000</td>\n",
              "      <td>1.000000</td>\n",
              "      <td>153.000000</td>\n",
              "      <td>0.000000</td>\n",
              "      <td>0.800000</td>\n",
              "      <td>1.000000</td>\n",
              "      <td>0.000000</td>\n",
              "      <td>2.000000</td>\n",
              "      <td>1.000000</td>\n",
              "    </tr>\n",
              "    <tr>\n",
              "      <th>75%</th>\n",
              "      <td>61.000000</td>\n",
              "      <td>1.000000</td>\n",
              "      <td>2.000000</td>\n",
              "      <td>140.000000</td>\n",
              "      <td>274.500000</td>\n",
              "      <td>0.000000</td>\n",
              "      <td>1.000000</td>\n",
              "      <td>166.000000</td>\n",
              "      <td>1.000000</td>\n",
              "      <td>1.600000</td>\n",
              "      <td>2.000000</td>\n",
              "      <td>1.000000</td>\n",
              "      <td>3.000000</td>\n",
              "      <td>1.000000</td>\n",
              "    </tr>\n",
              "    <tr>\n",
              "      <th>max</th>\n",
              "      <td>77.000000</td>\n",
              "      <td>1.000000</td>\n",
              "      <td>3.000000</td>\n",
              "      <td>200.000000</td>\n",
              "      <td>564.000000</td>\n",
              "      <td>1.000000</td>\n",
              "      <td>2.000000</td>\n",
              "      <td>202.000000</td>\n",
              "      <td>1.000000</td>\n",
              "      <td>6.200000</td>\n",
              "      <td>2.000000</td>\n",
              "      <td>4.000000</td>\n",
              "      <td>3.000000</td>\n",
              "      <td>1.000000</td>\n",
              "    </tr>\n",
              "  </tbody>\n",
              "</table>\n",
              "</div>"
            ],
            "text/plain": [
              "              age         sex          cp  ...          ca        thal      target\n",
              "count  303.000000  303.000000  303.000000  ...  303.000000  303.000000  303.000000\n",
              "mean    54.366337    0.683168    0.966997  ...    0.729373    2.313531    0.544554\n",
              "std      9.082101    0.466011    1.032052  ...    1.022606    0.612277    0.498835\n",
              "min     29.000000    0.000000    0.000000  ...    0.000000    0.000000    0.000000\n",
              "25%     47.500000    0.000000    0.000000  ...    0.000000    2.000000    0.000000\n",
              "50%     55.000000    1.000000    1.000000  ...    0.000000    2.000000    1.000000\n",
              "75%     61.000000    1.000000    2.000000  ...    1.000000    3.000000    1.000000\n",
              "max     77.000000    1.000000    3.000000  ...    4.000000    3.000000    1.000000\n",
              "\n",
              "[8 rows x 14 columns]"
            ]
          },
          "metadata": {
            "tags": []
          },
          "execution_count": 10
        }
      ]
    },
    {
      "cell_type": "markdown",
      "metadata": {
        "id": "Yy3v5h1cdM-H",
        "colab_type": "text"
      },
      "source": [
        "Untuk melihat nilai total, nilai tengah, standar deviasi, nilai min, quarter 1, quarter 2, quarter 3 dan nilai maksimum. "
      ]
    },
    {
      "cell_type": "markdown",
      "metadata": {
        "id": "easBnVtY5ykM",
        "colab_type": "text"
      },
      "source": [
        "#### Getting the number of instance and features"
      ]
    },
    {
      "cell_type": "code",
      "metadata": {
        "id": "H4vdMc_B5ykN",
        "colab_type": "code",
        "outputId": "7e39dec1-0a18-4873-8ee7-47f07d9040d7",
        "colab": {
          "base_uri": "https://localhost:8080/",
          "height": 51
        }
      },
      "source": [
        "print(\"Total Row Number: {0} \\nTotal Col Number: {1}\".format(heart.shape[0], heart.shape[1]))"
      ],
      "execution_count": 0,
      "outputs": [
        {
          "output_type": "stream",
          "text": [
            "Total Row Number: 303 \n",
            "Total Col Number: 14\n"
          ],
          "name": "stdout"
        }
      ]
    },
    {
      "cell_type": "markdown",
      "metadata": {
        "id": "aFsnL1-FdZOK",
        "colab_type": "text"
      },
      "source": [
        "Melihat dimensi dari data "
      ]
    },
    {
      "cell_type": "markdown",
      "metadata": {
        "id": "pU9kSGvm5ykP",
        "colab_type": "text"
      },
      "source": [
        "#### Checking for null values in the dataset "
      ]
    },
    {
      "cell_type": "code",
      "metadata": {
        "id": "22Uh7BIf5ykQ",
        "colab_type": "code",
        "outputId": "97ee6e86-1bc1-439f-a839-cca1ea676534",
        "colab": {
          "base_uri": "https://localhost:8080/",
          "height": 272
        }
      },
      "source": [
        "heart.isnull().sum()"
      ],
      "execution_count": 0,
      "outputs": [
        {
          "output_type": "execute_result",
          "data": {
            "text/plain": [
              "age         0\n",
              "sex         0\n",
              "cp          0\n",
              "trestbps    0\n",
              "chol        0\n",
              "fbs         0\n",
              "restecg     0\n",
              "thalach     0\n",
              "exang       0\n",
              "oldpeak     0\n",
              "slope       0\n",
              "ca          0\n",
              "thal        0\n",
              "target      0\n",
              "dtype: int64"
            ]
          },
          "metadata": {
            "tags": []
          },
          "execution_count": 12
        }
      ]
    },
    {
      "cell_type": "markdown",
      "metadata": {
        "id": "gLqfTA6lddYK",
        "colab_type": "text"
      },
      "source": [
        "Untuk melihat berapa data yang hilang dari setiap variable "
      ]
    },
    {
      "cell_type": "code",
      "metadata": {
        "id": "-kQwrLmr5ykU",
        "colab_type": "code",
        "outputId": "566cb931-6b76-475e-91f1-dc2740d64cdd",
        "colab": {
          "base_uri": "https://localhost:8080/",
          "height": 68
        }
      },
      "source": [
        "heart.target.value_counts()"
      ],
      "execution_count": 0,
      "outputs": [
        {
          "output_type": "execute_result",
          "data": {
            "text/plain": [
              "1    165\n",
              "0    138\n",
              "Name: target, dtype: int64"
            ]
          },
          "metadata": {
            "tags": []
          },
          "execution_count": 13
        }
      ]
    },
    {
      "cell_type": "markdown",
      "metadata": {
        "id": "7GOoy9DZcss9",
        "colab_type": "text"
      },
      "source": [
        "Nilai Aktual "
      ]
    },
    {
      "cell_type": "markdown",
      "metadata": {
        "id": "--VYvSI4_JRn",
        "colab_type": "text"
      },
      "source": [
        "### **Data Visualization**"
      ]
    },
    {
      "cell_type": "markdown",
      "metadata": {
        "id": "VciUqD5G5ykW",
        "colab_type": "text"
      },
      "source": [
        "**Show** **Gender**"
      ]
    },
    {
      "cell_type": "code",
      "metadata": {
        "id": "qlCL5w9L5ykX",
        "colab_type": "code",
        "outputId": "e8e32cba-7e4b-44ad-8858-c54a998b523d",
        "colab": {
          "base_uri": "https://localhost:8080/",
          "height": 357
        }
      },
      "source": [
        "male = len(heart[heart['sex'] == 1])\n",
        "female = len(heart[heart['sex'] == 0])\n",
        "\n",
        "plt.figure(figsize = (8,6))\n",
        "\n",
        "#Data to plot\n",
        "labels = 'Male', 'Female'\n",
        "sizes = [male, female]\n",
        "explode = (0.05, 0.05)\n",
        "\n",
        "#plot\n",
        "plt.pie(sizes, explode=explode, labels=labels, autopct='%1.1f%%', shadow=True, startangle=90)\n",
        "plt.axis('equal')\n",
        "plt.show()"
      ],
      "execution_count": 0,
      "outputs": [
        {
          "output_type": "display_data",
          "data": {
            "image/png": "[encoded data removed]",
            "text/plain": [
              "<Figure size 576x432 with 1 Axes>"
            ]
          },
          "metadata": {
            "tags": []
          }
        }
      ]
    },
    {
      "cell_type": "markdown",
      "metadata": {
        "id": "wprObgZPKmPC",
        "colab_type": "text"
      },
      "source": [
        "Gambar 1 Melihat berapa jumlah presentase Perempuan dan Laki-laki yang ada pada dataset. Pada data diatas sample laki-laki yang lebih banyak diambil. "
      ]
    },
    {
      "cell_type": "markdown",
      "metadata": {
        "id": "n44vxbpSeKBd",
        "colab_type": "text"
      },
      "source": [
        "**Show Cheast Pain Type**"
      ]
    },
    {
      "cell_type": "code",
      "metadata": {
        "id": "qO8cIeZP5yka",
        "colab_type": "code",
        "outputId": "4978a7da-e7c6-4927-e878-609b0d058c08",
        "colab": {
          "base_uri": "https://localhost:8080/",
          "height": 358
        }
      },
      "source": [
        "plt.figure(figsize=(8,6))\n",
        "\n",
        "#Data to plot\n",
        "labels = 'Typical Angina', 'Atypical Angina', 'Non-anginal Pain', 'Asymptomatic'\n",
        "sizes = [len(heart[heart['cp'] == 0]), len(heart[heart['cp'] == 1]), len(heart[heart['cp'] == 2]), len(heart[heart['cp'] == 3])]\n",
        "explode = (0.05, 0.05, 0.05, 0.05)\n",
        "\n",
        "#plot\n",
        "plt.pie(sizes, explode=explode, labels=labels, autopct='%1.1f%%', shadow=True, startangle=180)\n",
        "plt.axis('equal')\n",
        "plt.show()"
      ],
      "execution_count": 0,
      "outputs": [
        {
          "output_type": "display_data",
          "data": {
            "image/png": "[encoded data removed]",
            "text/plain": [
              "<Figure size 576x432 with 1 Axes>"
            ]
          },
          "metadata": {
            "tags": []
          }
        }
      ]
    },
    {
      "cell_type": "markdown",
      "metadata": {
        "id": "qMiS3q1kKt-8",
        "colab_type": "text"
      },
      "source": [
        "Gambar 2 Melihat berapa jumlah presentase dari tipe nyeri dada. Dari gambar diatas dapat disimpulkan Typical Angina lebih mendominan dibandingan nyeri dada tipe lain."
      ]
    },
    {
      "cell_type": "markdown",
      "metadata": {
        "id": "XC7WWfpF5ykd",
        "colab_type": "text"
      },
      "source": [
        "**Show Fasting Blood Sugar**"
      ]
    },
    {
      "cell_type": "code",
      "metadata": {
        "id": "1Pm4hJt95yke",
        "colab_type": "code",
        "outputId": "d1b10dd3-7d22-4593-d6e4-cb59bb008c36",
        "colab": {
          "base_uri": "https://localhost:8080/",
          "height": 357
        }
      },
      "source": [
        "plt.figure(figsize=(8,6))\n",
        "\n",
        "#Data to plot\n",
        "labels = 'Fasting blood sugar>120 mg/dl', 'Fasting blood sugar<120 mg/dl'\n",
        "sizes = [len(heart[heart['fbs'] == 1]), len(heart[heart['fbs'] == 0])]\n",
        "explode = (0.05, 0.05)\n",
        "\n",
        "#Plot\n",
        "plt.pie(sizes, explode=explode, labels=labels, autopct='%1.1f%%', shadow=True, startangle=90)\n",
        "plt.axis('equal')\n",
        "plt.show()"
      ],
      "execution_count": 0,
      "outputs": [
        {
          "output_type": "display_data",
          "data": {
            "image/png": "[encoded data removed]",
            "text/plain": [
              "<Figure size 576x432 with 1 Axes>"
            ]
          },
          "metadata": {
            "tags": []
          }
        }
      ]
    },
    {
      "cell_type": "markdown",
      "metadata": {
        "id": "6JYD20qcL4mP",
        "colab_type": "text"
      },
      "source": [
        "Gambar 3 Presentase gula darah setelah puasa. Dari gambar diatas lebih banyak yang memiliki gula darah <120 mg/dl"
      ]
    },
    {
      "cell_type": "code",
      "metadata": {
        "id": "Kyl9Rm_S5ykg",
        "colab_type": "code",
        "outputId": "e6b4c283-43ba-47d8-f47a-62e5dd63c89c",
        "colab": {
          "base_uri": "https://localhost:8080/",
          "height": 404
        }
      },
      "source": [
        "pd.crosstab(heart.sex, heart.target).plot(kind=\"bar\", figsize=(15,6), color=['#1CA53B','#AA1111'])\n",
        "plt.title('Heart Disease Frequency for Sex')\n",
        "plt.xlabel('Sex (0 = Female, 1 =  Male)')\n",
        "plt.xticks(rotation=0)\n",
        "plt.legend([\"Haven't Disease\", \"Have Disease\"])\n",
        "plt.ylabel('Frequency')\n",
        "plt.show()"
      ],
      "execution_count": 0,
      "outputs": [
        {
          "output_type": "display_data",
          "data": {
            "image/png": "[encoded data removed]",
            "text/plain": [
              "<Figure size 1080x432 with 1 Axes>"
            ]
          },
          "metadata": {
            "tags": []
          }
        }
      ]
    },
    {
      "cell_type": "markdown",
      "metadata": {
        "id": "sN1oPDGxMQp9",
        "colab_type": "text"
      },
      "source": [
        "Gambar 4 Melihat presentase pasien yang terkena penyakit jantung berdasarkan jenis kelamin."
      ]
    },
    {
      "cell_type": "code",
      "metadata": {
        "id": "tIQytWJk_fBr",
        "colab_type": "code",
        "outputId": "8e952a79-b133-4972-fa71-bebee4514fe1",
        "colab": {
          "base_uri": "https://localhost:8080/",
          "height": 404
        }
      },
      "source": [
        "pd.crosstab(heart.fbs, heart.target).plot(kind=\"bar\", figsize=(15,6), color=['#FFC300', '#581845'])\n",
        "plt.title('Heart Disease Frequency According to Fasting Blood Sugar')\n",
        "plt.xlabel('FBS - (Fasting Blood Sugar > 120 mg/dl) (1 = true; 0 = false)')\n",
        "plt.xticks(rotation=0)\n",
        "plt.legend([\"Haven't Disease\", \"Have Disease\"])\n",
        "plt.ylabel('Frequency of Disease or Not')\n",
        "plt.show()"
      ],
      "execution_count": 0,
      "outputs": [
        {
          "output_type": "display_data",
          "data": {
            "image/png": "[encoded data removed]",
            "text/plain": [
              "<Figure size 1080x432 with 1 Axes>"
            ]
          },
          "metadata": {
            "tags": []
          }
        }
      ]
    },
    {
      "cell_type": "markdown",
      "metadata": {
        "id": "kMYfyqPYM0W_",
        "colab_type": "text"
      },
      "source": [
        "Gambar 6 Melihat presentase pasien yang terkena penyakit jantung berdasarkan  gula darah setelah puasa."
      ]
    },
    {
      "cell_type": "code",
      "metadata": {
        "id": "zyTC2btm_imH",
        "colab_type": "code",
        "outputId": "a8466df1-01e2-4238-be91-fe8a66334f76",
        "colab": {
          "base_uri": "https://localhost:8080/",
          "height": 461
        }
      },
      "source": [
        "pd.crosstab(heart.age, heart.target).plot(kind=\"bar\", figsize=(20,6),colors=['#2789cf','#c9cf27'])\n",
        "plt.title('Heart Disease Frequency for Ages')\n",
        "plt.xlabel('Age')\n",
        "plt.ylabel('Frequency')\n",
        "plt.savefig('heartDiseaseAndAges.png')\n",
        "plt.show()"
      ],
      "execution_count": 0,
      "outputs": [
        {
          "output_type": "stream",
          "text": [
            "/usr/local/lib/python3.6/dist-packages/pandas/plotting/_matplotlib/core.py:203: UserWarning: 'colors' is being deprecated. Please use 'color'instead of 'colors'\n",
            "  \"'colors' is being deprecated. Please use 'color'\"\n"
          ],
          "name": "stderr"
        },
        {
          "output_type": "display_data",
          "data": {
            "image/png": "[encoded data removed]",
            "text/plain": [
              "<Figure size 1440x432 with 1 Axes>"
            ]
          },
          "metadata": {
            "tags": []
          }
        }
      ]
    },
    {
      "cell_type": "markdown",
      "metadata": {
        "id": "3uAfbRwVNFgg",
        "colab_type": "text"
      },
      "source": [
        "Gambar 7 Melihat presentase pasien yang terkena penyakit jantung berdasarkan umur."
      ]
    },
    {
      "cell_type": "markdown",
      "metadata": {
        "id": "1wM41BFmDEJ9",
        "colab_type": "text"
      },
      "source": [
        "### **Decision Tree**"
      ]
    },
    {
      "cell_type": "markdown",
      "metadata": {
        "id": "WR3FyBkje5Od",
        "colab_type": "text"
      },
      "source": [
        "**Setting up Decision Tree**"
      ]
    },
    {
      "cell_type": "code",
      "metadata": {
        "id": "0tabHSnE_kPf",
        "colab_type": "code",
        "colab": {}
      },
      "source": [
        "from sklearn.model_selection import train_test_split\n",
        "\n",
        "y = heart.target.values\n",
        "x = heart.drop(['target'], axis=1)"
      ],
      "execution_count": 0,
      "outputs": []
    },
    {
      "cell_type": "markdown",
      "metadata": {
        "id": "KEOOEsTtec6p",
        "colab_type": "text"
      },
      "source": [
        "untuk mendefenisikan nilai X dan Y yang akan dilakukan untuk data train dan data testing "
      ]
    },
    {
      "cell_type": "code",
      "metadata": {
        "id": "V4DcEIFeL4BN",
        "colab_type": "code",
        "colab": {}
      },
      "source": [
        "x_train, x_test, y_train, y_test = train_test_split(x,y, test_size = 0.2, random_state=0)"
      ],
      "execution_count": 0,
      "outputs": []
    },
    {
      "cell_type": "markdown",
      "metadata": {
        "id": "6LQ0T-Ieemud",
        "colab_type": "text"
      },
      "source": [
        "nilai testing = 0.2 dan nilai train = 0.8 "
      ]
    },
    {
      "cell_type": "code",
      "metadata": {
        "id": "oEMtamWdMMia",
        "colab_type": "code",
        "colab": {}
      },
      "source": [
        "#Transpose matrices\n",
        "x_train = x_train.T\n",
        "y_train = y_train.T\n",
        "x_test = x_test.T\n",
        "y_test = y_test.T"
      ],
      "execution_count": 0,
      "outputs": []
    },
    {
      "cell_type": "markdown",
      "metadata": {
        "id": "GXxYOXd-fKZw",
        "colab_type": "text"
      },
      "source": [
        "**Modelling**"
      ]
    },
    {
      "cell_type": "code",
      "metadata": {
        "id": "DVfnjV0wNDRU",
        "colab_type": "code",
        "outputId": "ce3b25bf-2e2f-4e8b-dde9-0f6c26845c64",
        "colab": {
          "base_uri": "https://localhost:8080/",
          "height": 119
        }
      },
      "source": [
        "from sklearn.tree import DecisionTreeClassifier\n",
        "from sklearn.model_selection import GridSearchCV\n",
        "heartTree = DecisionTreeClassifier(max_features = 10)\n",
        "params = {'max_features': ['auto', 'sqrt', 'log2'],\n",
        "          'min_samples_split': [2,3,4,5,6,7,8,9,10,11,12,13,14,15], \n",
        "          'min_samples_leaf':[1,2,3,4,5,6,7,8,9,10,11]}\n",
        "\n",
        "treemodel = GridSearchCV(heartTree, param_grid=params, n_jobs=-1)\n",
        "heartTree"
      ],
      "execution_count": 0,
      "outputs": [
        {
          "output_type": "execute_result",
          "data": {
            "text/plain": [
              "DecisionTreeClassifier(class_weight=None, criterion='gini', max_depth=None,\n",
              "                       max_features=10, max_leaf_nodes=None,\n",
              "                       min_impurity_decrease=0.0, min_impurity_split=None,\n",
              "                       min_samples_leaf=1, min_samples_split=2,\n",
              "                       min_weight_fraction_leaf=0.0, presort=False,\n",
              "                       random_state=None, splitter='best')"
            ]
          },
          "metadata": {
            "tags": []
          },
          "execution_count": 23
        }
      ]
    },
    {
      "cell_type": "code",
      "metadata": {
        "id": "nLrk5co4TPmv",
        "colab_type": "code",
        "outputId": "4452e4ba-3ba7-4f9b-e138-42d7747d2112",
        "colab": {
          "base_uri": "https://localhost:8080/",
          "height": 119
        }
      },
      "source": [
        "heartTree.fit(x_train.T, y_train.T)"
      ],
      "execution_count": 0,
      "outputs": [
        {
          "output_type": "execute_result",
          "data": {
            "text/plain": [
              "DecisionTreeClassifier(class_weight=None, criterion='gini', max_depth=None,\n",
              "                       max_features=10, max_leaf_nodes=None,\n",
              "                       min_impurity_decrease=0.0, min_impurity_split=None,\n",
              "                       min_samples_leaf=1, min_samples_split=2,\n",
              "                       min_weight_fraction_leaf=0.0, presort=False,\n",
              "                       random_state=None, splitter='best')"
            ]
          },
          "metadata": {
            "tags": []
          },
          "execution_count": 24
        }
      ]
    },
    {
      "cell_type": "markdown",
      "metadata": {
        "id": "W7Ud2IvyfWkK",
        "colab_type": "text"
      },
      "source": [
        "Prediction"
      ]
    },
    {
      "cell_type": "code",
      "metadata": {
        "id": "Yq_bzM4rbyyS",
        "colab_type": "code",
        "colab": {}
      },
      "source": [
        "predTree = heartTree.predict(x_test.T)"
      ],
      "execution_count": 0,
      "outputs": []
    },
    {
      "cell_type": "markdown",
      "metadata": {
        "id": "W9rwQigpfdIV",
        "colab_type": "text"
      },
      "source": [
        "Accuracy Metrics"
      ]
    },
    {
      "cell_type": "code",
      "metadata": {
        "id": "yJfgb1Vmb1Mz",
        "colab_type": "code",
        "outputId": "f25d499c-4f41-45e8-e00a-f99fb7d2a1ac",
        "colab": {
          "base_uri": "https://localhost:8080/",
          "height": 51
        }
      },
      "source": [
        "from sklearn import metrics\n",
        "import matplotlib.pyplot as plt\n",
        "print(\"DecisionTree's Accuracy: \", metrics.accuracy_score(y_test.T, predTree))\n",
        "print('Using Decision Tree we get an accuracy score of: ',\n",
        "     round(metrics.accuracy_score(y_test.T,predTree),5)*100, '%')"
      ],
      "execution_count": 0,
      "outputs": [
        {
          "output_type": "stream",
          "text": [
            "DecisionTree's Accuracy:  0.8032786885245902\n",
            "Using Decision Tree we get an accuracy score of:  80.328 %\n"
          ],
          "name": "stdout"
        }
      ]
    },
    {
      "cell_type": "markdown",
      "metadata": {
        "id": "DccXk1pZfmV7",
        "colab_type": "text"
      },
      "source": [
        "Classification Report"
      ]
    },
    {
      "cell_type": "code",
      "metadata": {
        "id": "Zf0T_N_Rb3BU",
        "colab_type": "code",
        "outputId": "9185e07e-3753-44e3-97dc-bfe0fd3a7808",
        "colab": {
          "base_uri": "https://localhost:8080/",
          "height": 170
        }
      },
      "source": [
        "from sklearn.metrics import classification_report,confusion_matrix\n",
        "print(classification_report(y_test.T, predTree))"
      ],
      "execution_count": 0,
      "outputs": [
        {
          "output_type": "stream",
          "text": [
            "              precision    recall  f1-score   support\n",
            "\n",
            "           0       0.78      0.78      0.78        27\n",
            "           1       0.82      0.82      0.82        34\n",
            "\n",
            "    accuracy                           0.80        61\n",
            "   macro avg       0.80      0.80      0.80        61\n",
            "weighted avg       0.80      0.80      0.80        61\n",
            "\n"
          ],
          "name": "stdout"
        }
      ]
    },
    {
      "cell_type": "markdown",
      "metadata": {
        "id": "Ea_2qg8eflXr",
        "colab_type": "text"
      },
      "source": [
        "Confusion Matrix"
      ]
    },
    {
      "cell_type": "code",
      "metadata": {
        "id": "kcLkBMGLb4o9",
        "colab_type": "code",
        "outputId": "b14eefdc-b451-483b-8f4c-b2f1fe50e22a",
        "colab": {
          "base_uri": "https://localhost:8080/",
          "height": 51
        }
      },
      "source": [
        "cnf_matrix_dt = confusion_matrix(y_test, predTree)\n",
        "cnf_matrix_dt"
      ],
      "execution_count": 0,
      "outputs": [
        {
          "output_type": "execute_result",
          "data": {
            "text/plain": [
              "array([[21,  6],\n",
              "       [ 6, 28]])"
            ]
          },
          "metadata": {
            "tags": []
          },
          "execution_count": 28
        }
      ]
    },
    {
      "cell_type": "code",
      "metadata": {
        "id": "KhgVK5c3fuGE",
        "colab_type": "code",
        "outputId": "745bdac7-d6e5-4a52-d8c1-6cd7e2559f18",
        "colab": {
          "base_uri": "https://localhost:8080/",
          "height": 320
        }
      },
      "source": [
        "class_names = [0,1]\n",
        "fig, ax = plt.subplots()\n",
        "tick_marks = np.arange(len(class_names))\n",
        "plt.xticks(tick_marks, class_names)\n",
        "plt.yticks(tick_marks, class_names)\n",
        "\n",
        "#create heatmap\n",
        "sns.heatmap(pd.DataFrame(cnf_matrix_dt), annot = True, cmap = \"Blues\", fmt = \"d\")\n",
        "ax.xaxis.set_label_position('top')\n",
        "plt.tight_layout()\n",
        "plt.title('Confusion matrix for Decision Tree')\n",
        "plt.ylabel('Actual label')\n",
        "plt.xlabel('Predicted label')\n",
        "plt.show()"
      ],
      "execution_count": 0,
      "outputs": [
        {
          "output_type": "display_data",
          "data": {
            "image/png": "[encoded data removed]",
            "text/plain": [
              "<Figure size 432x288 with 2 Axes>"
            ]
          },
          "metadata": {
            "tags": []
          }
        }
      ]
    },
    {
      "cell_type": "markdown",
      "metadata": {
        "id": "LySm-VZ_kPNk",
        "colab_type": "text"
      },
      "source": [
        "# KNN Classification"
      ]
    },
    {
      "cell_type": "markdown",
      "metadata": {
        "id": "LDODFHeZkXYH",
        "colab_type": "text"
      },
      "source": [
        "Importing libraries"
      ]
    },
    {
      "cell_type": "code",
      "metadata": {
        "id": "lkIw4rmSjg0Z",
        "colab_type": "code",
        "colab": {}
      },
      "source": [
        "from sklearn.decomposition import PCA #testing data\n",
        "from sklearn.neighbors import KNeighborsClassifier #making knn classification\n",
        "from sklearn.model_selection import GridSearchCV,cross_val_score #testing KNN\n",
        "from sklearn.metrics import roc_curve, auc #testing KNN acuracy and perfomance"
      ],
      "execution_count": 0,
      "outputs": []
    },
    {
      "cell_type": "markdown",
      "metadata": {
        "id": "xpAGUCeBkzyD",
        "colab_type": "text"
      },
      "source": [
        "Mengatur Data for KNN"
      ]
    },
    {
      "cell_type": "code",
      "metadata": {
        "id": "RCejAXksj3vA",
        "colab_type": "code",
        "colab": {}
      },
      "source": [
        "X_train,X_test,y_train,y_test=train_test_split(x,y,test_size=0.2,random_state=42)"
      ],
      "execution_count": 0,
      "outputs": []
    },
    {
      "cell_type": "markdown",
      "metadata": {
        "id": "TYa9-ZWlltzn",
        "colab_type": "text"
      },
      "source": [
        "normalisasi data(mengeleminasi data dengan nilai negatif)"
      ]
    },
    {
      "cell_type": "code",
      "metadata": {
        "id": "aZRCaHU9ld1J",
        "colab_type": "code",
        "colab": {}
      },
      "source": [
        "X_train=(X_train-np.min(X_train))/(np.max(X_train)-np.min(X_train)).values\n",
        "X_test=(X_test-np.min(X_test))/(np.max(X_test)-np.min(X_test)).values"
      ],
      "execution_count": 0,
      "outputs": []
    },
    {
      "cell_type": "markdown",
      "metadata": {
        "id": "nz0-axAfmE1G",
        "colab_type": "text"
      },
      "source": [
        "membuat PCA untuk melihat data telah layak untuk di klasifikasikan"
      ]
    },
    {
      "cell_type": "code",
      "metadata": {
        "id": "fEog6KCalpuX",
        "colab_type": "code",
        "outputId": "cda11316-720a-4328-f018-5b0c72e7c4d3",
        "colab": {
          "base_uri": "https://localhost:8080/",
          "height": 265
        }
      },
      "source": [
        "pca=PCA().fit(X_train)\n",
        "cumulative=np.cumsum(pca.explained_variance_ratio_)\n",
        "plt.step([i for i in range(len(cumulative))],cumulative)\n",
        "plt.show()"
      ],
      "execution_count": 0,
      "outputs": [
        {
          "output_type": "display_data",
          "data": {
            "image/png": "[encoded data removed]",
            "text/plain": [
              "<Figure size 432x288 with 1 Axes>"
            ]
          },
          "metadata": {
            "tags": []
          }
        }
      ]
    },
    {
      "cell_type": "markdown",
      "metadata": {
        "id": "Ph17ZhFhogmZ",
        "colab_type": "text"
      },
      "source": [
        "scatter plot untuk melihat hasil PCA telah berhasil "
      ]
    },
    {
      "cell_type": "code",
      "metadata": {
        "id": "_o8M2CMKmRZy",
        "colab_type": "code",
        "outputId": "0ead8c00-ca63-4faf-cd21-ceba1eae7c14",
        "colab": {
          "base_uri": "https://localhost:8080/",
          "height": 279
        }
      },
      "source": [
        "pca = PCA(n_components=8)\n",
        "pca.fit(X_train)\n",
        "reduced_data_train = pca.transform(X_train)\n",
        "plt.scatter(reduced_data_train[:, 0], reduced_data_train[:, 1], label='reduced')\n",
        "plt.xlabel('First Principal Component')\n",
        "plt.ylabel('Second Principal Component')\n",
        "plt.show()"
      ],
      "execution_count": 0,
      "outputs": [
        {
          "output_type": "display_data",
          "data": {
            "image/png": "[encoded data removed]",
            "text/plain": [
              "<Figure size 432x288 with 1 Axes>"
            ]
          },
          "metadata": {
            "tags": []
          }
        }
      ]
    },
    {
      "cell_type": "code",
      "metadata": {
        "id": "FIEtK5CsmDW9",
        "colab_type": "code",
        "outputId": "a0fad149-f1ce-49e1-e889-a602a544a554",
        "colab": {
          "base_uri": "https://localhost:8080/",
          "height": 280
        }
      },
      "source": [
        "pca = PCA(n_components=8)\n",
        "pca.fit(X_test)\n",
        "reduced_data_test = pca.transform(X_test)\n",
        "#inverse_data = pca.inverse_transform(reduced_data)\n",
        "plt.scatter(reduced_data_test[:, 0], reduced_data_test[:, 1], label='reduced')\n",
        "plt.xlabel('First Principal Component')\n",
        "plt.ylabel('Second Principal Component')\n",
        "plt.show()"
      ],
      "execution_count": 0,
      "outputs": [
        {
          "output_type": "display_data",
          "data": {
            "image/png": "[encoded data removed]",
            "text/plain": [
              "<Figure size 432x288 with 1 Axes>"
            ]
          },
          "metadata": {
            "tags": []
          }
        }
      ]
    },
    {
      "cell_type": "markdown",
      "metadata": {
        "colab_type": "text",
        "id": "-OyXJ2xeVNl-"
      },
      "source": [
        ""
      ]
    },
    {
      "cell_type": "markdown",
      "metadata": {
        "id": "eAkIJEqRoUcj",
        "colab_type": "text"
      },
      "source": [
        "memasukan data yang telah di olah dalam variabel"
      ]
    },
    {
      "cell_type": "code",
      "metadata": {
        "id": "HakL8uw4mp8S",
        "colab_type": "code",
        "colab": {}
      },
      "source": [
        "reduced_data_train = pd.DataFrame(reduced_data_train, columns=['Dim1', 'Dim2','Dim3','Dim4','Dim5','Dim6','Dim7','Dim8'])\n",
        "reduced_data_test = pd.DataFrame(reduced_data_test, columns=['Dim1', 'Dim2','Dim3','Dim4','Dim5','Dim6','Dim7','Dim8'])\n",
        "X_train=reduced_data_train\n",
        "X_test=reduced_data_test"
      ],
      "execution_count": 0,
      "outputs": []
    },
    {
      "cell_type": "markdown",
      "metadata": {
        "id": "6eIUxAV0n1wn",
        "colab_type": "text"
      },
      "source": [
        "membuat fungsi yang akan digunakan pada grafik AUC dan plot confussion matrix"
      ]
    },
    {
      "cell_type": "code",
      "metadata": {
        "id": "KpvLPOrunhoH",
        "colab_type": "code",
        "colab": {}
      },
      "source": [
        "def plot_roc_(false_positive_rate,true_positive_rate,roc_auc):   \n",
        "    plt.figure(figsize=(5,5))\n",
        "    plt.title('Receiver Operating Characteristic')\n",
        "    plt.plot(false_positive_rate,true_positive_rate, color='red',label = 'AUC = %0.2f' % roc_auc)\n",
        "    plt.legend(loc = 'lower right')\n",
        "    plt.plot([0, 1], [0, 1],linestyle='--')\n",
        "    plt.axis('tight')\n",
        "    plt.ylabel('True Positive Rate')\n",
        "    plt.xlabel('False Positive Rate')\n",
        "    plt.show()\n",
        "    \n",
        "def plot_feature_importances(gbm):\n",
        "    n_features = X_train.shape[1]\n",
        "    plt.barh(range(n_features), gbm.feature_importances_, align='center')\n",
        "    plt.yticks(np.arange(n_features), X_train.columns)\n",
        "    plt.xlabel(\"Feature importance\")\n",
        "    plt.ylabel(\"Feature\")\n",
        "    plt.ylim(-1, n_features)"
      ],
      "execution_count": 0,
      "outputs": []
    },
    {
      "cell_type": "markdown",
      "metadata": {
        "id": "uoILgIv4phJc",
        "colab_type": "text"
      },
      "source": [
        "membuat list fitur yang telah di klasifikasikan"
      ]
    },
    {
      "cell_type": "code",
      "metadata": {
        "id": "yqKdheJqpT3f",
        "colab_type": "code",
        "colab": {}
      },
      "source": [
        "combine_features_list=[\n",
        "    ('Dim1','Dim2','Dim3'),\n",
        "    ('Dim4','Dim5','Dim6'),\n",
        "    ('Dim7','Dim8','Dim1'),\n",
        "    ('Dim4','Dim8','Dim5')\n",
        "]"
      ],
      "execution_count": 0,
      "outputs": []
    },
    {
      "cell_type": "markdown",
      "metadata": {
        "id": "QY8SjK7Lp2KR",
        "colab_type": "text"
      },
      "source": [
        "mencari nilai n yang optimal"
      ]
    },
    {
      "cell_type": "code",
      "metadata": {
        "id": "TwoXfpz_pR1Q",
        "colab_type": "code",
        "outputId": "f9cfaf34-a0e4-42ce-f1f4-0a032adbcbff",
        "colab": {
          "base_uri": "https://localhost:8080/",
          "height": 1000
        }
      },
      "source": [
        "parameters=[\n",
        "{\n",
        "    'n_neighbors':np.arange(2,33),\n",
        "    'n_jobs':[2,6]\n",
        "    }\n",
        "]\n",
        "print(\"*\"*50)\n",
        "for features in combine_features_list:\n",
        "    print(\"*\"*50)\n",
        "    \n",
        "    X_train_set=X_train.loc[:,features]\n",
        "    X_test_set=X_test.loc[:,features]\n",
        "   \n",
        "    gsknn=GridSearchCV(KNeighborsClassifier(),parameters,scoring='accuracy')\n",
        "    gsknn.fit(X_train_set,y_train)\n",
        "    print('Best parameters set:')\n",
        "    print(gsknn.best_params_)\n",
        "    print(\"*\"*50)\n",
        "    predictions = [\n",
        "    (gsknn.predict(X_train_set), y_train, 'Train'),\n",
        "    (gsknn.predict(X_test_set), y_test, 'Test1')\n",
        "    ]\n",
        "    for pred in predictions:\n",
        "        print(pred[2] + ' Classification Report:')\n",
        "        print(\"*\"*50)\n",
        "        print(classification_report(pred[1], pred[0]))\n",
        "        print(\"*\"*50)\n",
        "        print(pred[2] + ' Confusion Matrix:')\n",
        "        print(confusion_matrix(pred[1], pred[0]))\n",
        "        print(\"*\"*50)\n",
        "        \n",
        "    print(\"*\"*50)    \n",
        "    basari=cross_val_score(estimator=KNeighborsClassifier(),X=X_train,y=y_train,cv=12)\n",
        "    print(basari.mean())\n",
        "    print(basari.std())\n",
        "    print(\"*\"*50)"
      ],
      "execution_count": 0,
      "outputs": [
        {
          "output_type": "stream",
          "text": [
            "**************************************************\n",
            "**************************************************\n"
          ],
          "name": "stdout"
        },
        {
          "output_type": "stream",
          "text": [
            "/usr/local/lib/python3.6/dist-packages/sklearn/model_selection/_split.py:1978: FutureWarning: The default value of cv will change from 3 to 5 in version 0.22. Specify it explicitly to silence this warning.\n",
            "  warnings.warn(CV_WARNING, FutureWarning)\n",
            "/usr/local/lib/python3.6/dist-packages/sklearn/model_selection/_search.py:814: DeprecationWarning: The default of the `iid` parameter will change from True to False in version 0.22 and will be removed in 0.24. This will change numeric results when test-set sizes are unequal.\n",
            "  DeprecationWarning)\n"
          ],
          "name": "stderr"
        },
        {
          "output_type": "stream",
          "text": [
            "Best parameters set:\n",
            "{'n_jobs': 2, 'n_neighbors': 29}\n",
            "**************************************************\n",
            "Train Classification Report:\n",
            "**************************************************\n",
            "              precision    recall  f1-score   support\n",
            "\n",
            "           0       0.78      0.72      0.75       109\n",
            "           1       0.78      0.83      0.81       133\n",
            "\n",
            "    accuracy                           0.78       242\n",
            "   macro avg       0.78      0.78      0.78       242\n",
            "weighted avg       0.78      0.78      0.78       242\n",
            "\n",
            "**************************************************\n",
            "Train Confusion Matrix:\n",
            "[[ 78  31]\n",
            " [ 22 111]]\n",
            "**************************************************\n",
            "Test1 Classification Report:\n",
            "**************************************************\n",
            "              precision    recall  f1-score   support\n",
            "\n",
            "           0       0.83      0.69      0.75        29\n",
            "           1       0.76      0.88      0.81        32\n",
            "\n",
            "    accuracy                           0.79        61\n",
            "   macro avg       0.80      0.78      0.78        61\n",
            "weighted avg       0.79      0.79      0.78        61\n",
            "\n",
            "**************************************************\n",
            "Test1 Confusion Matrix:\n",
            "[[20  9]\n",
            " [ 4 28]]\n",
            "**************************************************\n",
            "**************************************************\n",
            "0.8068181818181818\n",
            "0.09283008263717234\n",
            "**************************************************\n",
            "**************************************************\n"
          ],
          "name": "stdout"
        },
        {
          "output_type": "stream",
          "text": [
            "/usr/local/lib/python3.6/dist-packages/sklearn/model_selection/_split.py:1978: FutureWarning: The default value of cv will change from 3 to 5 in version 0.22. Specify it explicitly to silence this warning.\n",
            "  warnings.warn(CV_WARNING, FutureWarning)\n",
            "/usr/local/lib/python3.6/dist-packages/sklearn/model_selection/_search.py:814: DeprecationWarning: The default of the `iid` parameter will change from True to False in version 0.22 and will be removed in 0.24. This will change numeric results when test-set sizes are unequal.\n",
            "  DeprecationWarning)\n"
          ],
          "name": "stderr"
        },
        {
          "output_type": "stream",
          "text": [
            "Best parameters set:\n",
            "{'n_jobs': 2, 'n_neighbors': 3}\n",
            "**************************************************\n",
            "Train Classification Report:\n",
            "**************************************************\n",
            "              precision    recall  f1-score   support\n",
            "\n",
            "           0       0.85      0.84      0.85       109\n",
            "           1       0.87      0.88      0.88       133\n",
            "\n",
            "    accuracy                           0.86       242\n",
            "   macro avg       0.86      0.86      0.86       242\n",
            "weighted avg       0.86      0.86      0.86       242\n",
            "\n",
            "**************************************************\n",
            "Train Confusion Matrix:\n",
            "[[ 92  17]\n",
            " [ 16 117]]\n",
            "**************************************************\n",
            "Test1 Classification Report:\n",
            "**************************************************\n",
            "              precision    recall  f1-score   support\n",
            "\n",
            "           0       0.55      0.59      0.57        29\n",
            "           1       0.60      0.56      0.58        32\n",
            "\n",
            "    accuracy                           0.57        61\n",
            "   macro avg       0.57      0.57      0.57        61\n",
            "weighted avg       0.58      0.57      0.57        61\n",
            "\n",
            "**************************************************\n",
            "Test1 Confusion Matrix:\n",
            "[[17 12]\n",
            " [14 18]]\n",
            "**************************************************\n",
            "**************************************************\n",
            "0.8068181818181818\n",
            "0.09283008263717234\n",
            "**************************************************\n",
            "**************************************************\n"
          ],
          "name": "stdout"
        },
        {
          "output_type": "stream",
          "text": [
            "/usr/local/lib/python3.6/dist-packages/sklearn/model_selection/_split.py:1978: FutureWarning: The default value of cv will change from 3 to 5 in version 0.22. Specify it explicitly to silence this warning.\n",
            "  warnings.warn(CV_WARNING, FutureWarning)\n",
            "/usr/local/lib/python3.6/dist-packages/sklearn/model_selection/_search.py:814: DeprecationWarning: The default of the `iid` parameter will change from True to False in version 0.22 and will be removed in 0.24. This will change numeric results when test-set sizes are unequal.\n",
            "  DeprecationWarning)\n"
          ],
          "name": "stderr"
        },
        {
          "output_type": "stream",
          "text": [
            "Best parameters set:\n",
            "{'n_jobs': 2, 'n_neighbors': 30}\n",
            "**************************************************\n",
            "Train Classification Report:\n",
            "**************************************************\n",
            "              precision    recall  f1-score   support\n",
            "\n",
            "           0       0.79      0.75      0.77       109\n",
            "           1       0.80      0.83      0.82       133\n",
            "\n",
            "    accuracy                           0.80       242\n",
            "   macro avg       0.80      0.79      0.79       242\n",
            "weighted avg       0.80      0.80      0.80       242\n",
            "\n",
            "**************************************************\n",
            "Train Confusion Matrix:\n",
            "[[ 82  27]\n",
            " [ 22 111]]\n",
            "**************************************************\n",
            "Test1 Classification Report:\n",
            "**************************************************\n",
            "              precision    recall  f1-score   support\n",
            "\n",
            "           0       0.76      0.66      0.70        29\n",
            "           1       0.72      0.81      0.76        32\n",
            "\n",
            "    accuracy                           0.74        61\n",
            "   macro avg       0.74      0.73      0.73        61\n",
            "weighted avg       0.74      0.74      0.74        61\n",
            "\n",
            "**************************************************\n",
            "Test1 Confusion Matrix:\n",
            "[[19 10]\n",
            " [ 6 26]]\n",
            "**************************************************\n",
            "**************************************************\n",
            "0.8068181818181818\n",
            "0.09283008263717234\n",
            "**************************************************\n",
            "**************************************************\n"
          ],
          "name": "stdout"
        },
        {
          "output_type": "stream",
          "text": [
            "/usr/local/lib/python3.6/dist-packages/sklearn/model_selection/_split.py:1978: FutureWarning: The default value of cv will change from 3 to 5 in version 0.22. Specify it explicitly to silence this warning.\n",
            "  warnings.warn(CV_WARNING, FutureWarning)\n",
            "/usr/local/lib/python3.6/dist-packages/sklearn/model_selection/_search.py:814: DeprecationWarning: The default of the `iid` parameter will change from True to False in version 0.22 and will be removed in 0.24. This will change numeric results when test-set sizes are unequal.\n",
            "  DeprecationWarning)\n"
          ],
          "name": "stderr"
        },
        {
          "output_type": "stream",
          "text": [
            "Best parameters set:\n",
            "{'n_jobs': 2, 'n_neighbors': 4}\n",
            "**************************************************\n",
            "Train Classification Report:\n",
            "**************************************************\n",
            "              precision    recall  f1-score   support\n",
            "\n",
            "           0       0.70      0.92      0.79       109\n",
            "           1       0.91      0.68      0.78       133\n",
            "\n",
            "    accuracy                           0.79       242\n",
            "   macro avg       0.80      0.80      0.78       242\n",
            "weighted avg       0.81      0.79      0.78       242\n",
            "\n",
            "**************************************************\n",
            "Train Confusion Matrix:\n",
            "[[100   9]\n",
            " [ 43  90]]\n",
            "**************************************************\n",
            "Test1 Classification Report:\n",
            "**************************************************\n",
            "              precision    recall  f1-score   support\n",
            "\n",
            "           0       0.47      0.62      0.54        29\n",
            "           1       0.52      0.38      0.44        32\n",
            "\n",
            "    accuracy                           0.49        61\n",
            "   macro avg       0.50      0.50      0.49        61\n",
            "weighted avg       0.50      0.49      0.48        61\n",
            "\n",
            "**************************************************\n",
            "Test1 Confusion Matrix:\n",
            "[[18 11]\n",
            " [20 12]]\n",
            "**************************************************\n",
            "**************************************************\n",
            "0.8068181818181818\n",
            "0.09283008263717234\n",
            "**************************************************\n"
          ],
          "name": "stdout"
        }
      ]
    },
    {
      "cell_type": "markdown",
      "metadata": {
        "id": "vr9ZK4Lap7zr",
        "colab_type": "text"
      },
      "source": [
        "melihat perfoma data sesuai nilai n yang optimal"
      ]
    },
    {
      "cell_type": "code",
      "metadata": {
        "id": "Xlh5_Nf_ppme",
        "colab_type": "code",
        "outputId": "69a0f3e3-992a-42d4-bae2-4d6229bd69f0",
        "colab": {
          "base_uri": "https://localhost:8080/",
          "height": 705
        }
      },
      "source": [
        "knn=KNeighborsClassifier(n_jobs=2, n_neighbors=30)\n",
        "knn.fit(X_train,y_train)\n",
        "\n",
        "y_pred=knn.predict(X_test)\n",
        "\n",
        "y_proba=knn.predict_proba(X_test)\n",
        "false_positive_rate, true_positive_rate, thresholds = roc_curve(y_test,y_proba[:,1])\n",
        "roc_auc = auc(false_positive_rate, true_positive_rate)\n",
        "plot_roc_(false_positive_rate,true_positive_rate,roc_auc)\n",
        "\n",
        "from sklearn.metrics import r2_score,accuracy_score\n",
        "\n",
        "print('Accurancy Oranı :',accuracy_score(y_test, y_pred))\n",
        "print(\"KNN TRAIN score with \",format(knn.score(X_train, y_train)))\n",
        "print(\"KNN TEST score with \",format(knn.score(X_test, y_test)))\n",
        "print()\n",
        "\n",
        "cm=confusion_matrix(y_test,y_pred)\n",
        "print(cm)\n",
        "sns.heatmap(cm,annot=True)\n",
        "plt.show()"
      ],
      "execution_count": 0,
      "outputs": [
        {
          "output_type": "display_data",
          "data": {
            "image/png": "[encoded data removed]",
            "text/plain": [
              "<Figure size 360x360 with 1 Axes>"
            ]
          },
          "metadata": {
            "tags": []
          }
        },
        {
          "output_type": "stream",
          "text": [
            "Accurancy Oranı : 0.7868852459016393\n",
            "KNN TRAIN score with  0.8016528925619835\n",
            "KNN TEST score with  0.7868852459016393\n",
            "\n",
            "[[19 10]\n",
            " [ 3 29]]\n"
          ],
          "name": "stdout"
        },
        {
          "output_type": "display_data",
          "data": {
            "image/png": "[encoded data removed]",
            "text/plain": [
              "<Figure size 432x288 with 2 Axes>"
            ]
          },
          "metadata": {
            "tags": []
          }
        }
      ]
    },
    {
      "cell_type": "markdown",
      "metadata": {
        "id": "anAJYtlyWGjq",
        "colab_type": "text"
      },
      "source": [
        "#Kesimpulan"
      ]
    },
    {
      "cell_type": "markdown",
      "metadata": {
        "id": "xWEeeWbIkMXT",
        "colab_type": "text"
      },
      "source": [
        "Dari dua algoritma yang digunakan yaitu Decision Tree dan KNN ternyata tingkat akurasi Algoritma Decision Tree lebih besar yaitu  80.328 % sedangkan tingkat akurasi KNN yakni 78%."
      ]
    }
  ]
}